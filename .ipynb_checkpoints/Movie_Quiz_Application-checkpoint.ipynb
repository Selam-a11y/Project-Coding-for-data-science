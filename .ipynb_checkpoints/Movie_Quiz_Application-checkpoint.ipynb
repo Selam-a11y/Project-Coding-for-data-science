{
 "cells": [
  {
   "cell_type": "markdown",
   "id": "e725409c",
   "metadata": {},
   "source": [
    "\n",
    "# Movie Quiz Application\n",
    "\n",
    "This notebook demonstrates how the **Movie Quiz Application** is built and functions. \n",
    "The application allows users to test their knowledge about movies through a quiz while tracking their performance and visualizing results.\n",
    "\n",
    "## Components\n",
    "\n",
    "1. **Performance Tracker**:\n",
    "   - Tracks the number of correct answers and calculates a score based on question difficulty.\n",
    "\n",
    "2. **Quiz Logic**:\n",
    "   - Uses a movie dataset to generate questions and evaluates the user's responses.\n",
    "\n",
    "3. **Visualization**:\n",
    "   - Plots the user's performance (correct vs incorrect answers) as a bar chart.\n",
    "\n",
    "## Objective\n",
    "Explore how the quiz application works by running its components interactively.\n"
   ]
  },
  {
   "cell_type": "code",
   "execution_count": null,
   "id": "d8c8d180",
   "metadata": {},
   "outputs": [],
   "source": [
    "\n",
    "# Performance Tracker: Tracks scores and performance\n",
    "class PerformanceTracker:\n",
    "    def __init__(self):\n",
    "        self.correct_answers = 0\n",
    "        self.total_questions = 0\n",
    "        self.difficulty_weights = {\"easy\": 1, \"medium\": 2, \"hard\": 3}\n",
    "        self.score = 0\n",
    "\n",
    "    def update_score(self, correct, difficulty):\n",
    "        self.total_questions += 1\n",
    "        if correct:\n",
    "            self.correct_answers += 1\n",
    "            self.score += self.difficulty_weights[difficulty]\n",
    "\n",
    "    def get_summary(self):\n",
    "        return {\n",
    "            \"total_questions\": self.total_questions,\n",
    "            \"correct_answers\": self.correct_answers,\n",
    "            \"score\": self.score\n",
    "        }\n"
   ]
  },
  {
   "cell_type": "code",
   "execution_count": null,
   "id": "5c4286e3",
   "metadata": {},
   "outputs": [],
   "source": [
    "\n",
    "import matplotlib.pyplot as plt\n",
    "\n",
    "def plot_performance(correct, incorrect):\n",
    "    # Data\n",
    "    categories = ['Correct', 'Incorrect']\n",
    "    values = [correct, incorrect]\n",
    "\n",
    "    # Create a figure and axis\n",
    "    fig, ax = plt.subplots(figsize=(8, 5))\n",
    "\n",
    "    # Create bar plot\n",
    "    ax.bar(categories, values, color=['green', 'red'], edgecolor='black')\n",
    "\n",
    "    # Customize the plot\n",
    "    ax.set_title('Quiz Performance: Correct vs Incorrect')\n",
    "    ax.set_ylabel('Number of Answers')\n",
    "    ax.set_ylim(0, max(values) + 1)  # Set y-axis limit for better visibility\n",
    "\n",
    "    # Display the plot\n",
    "    plt.grid(axis='y')  # Add grid lines for better readability\n",
    "    plt.show()\n"
   ]
  },
  {
   "cell_type": "markdown",
   "id": "d3407686",
   "metadata": {},
   "source": [
    "## Simulating Performance Tracker"
   ]
  },
  {
   "cell_type": "code",
   "execution_count": null,
   "id": "24445472",
   "metadata": {},
   "outputs": [],
   "source": [
    "\n",
    "# Simulate using the PerformanceTracker\n",
    "tracker = PerformanceTracker()\n",
    "\n",
    "# Update tracker with some simulated answers\n",
    "tracker.update_score(correct=True, difficulty=\"easy\")\n",
    "tracker.update_score(correct=False, difficulty=\"medium\")\n",
    "tracker.update_score(correct=True, difficulty=\"hard\")\n",
    "\n",
    "# Display summary\n",
    "summary = tracker.get_summary()\n",
    "print(\"Performance Summary:\")\n",
    "print(summary)\n",
    "\n",
    "# Plot performance\n",
    "correct_answers = summary['correct_answers']\n",
    "incorrect_answers = summary['total_questions'] - correct_answers\n",
    "plot_performance(correct_answers, incorrect_answers)\n"
   ]
  }
 ],
 "metadata": {},
 "nbformat": 4,
 "nbformat_minor": 5
}
