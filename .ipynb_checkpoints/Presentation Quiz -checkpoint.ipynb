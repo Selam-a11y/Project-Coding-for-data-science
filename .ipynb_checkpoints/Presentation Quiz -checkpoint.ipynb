{
 "cells": [
  {
   "cell_type": "markdown",
   "id": "d71df585-fcd2-445b-8482-5c83b65459d1",
   "metadata": {},
   "source": [
    "# Quiz Project \n",
    "#### **Selam Mahmud Ali**  \n",
    "#### *Coding for Data science - DSE*  \n",
    "#### *26-11-2024* \n"
   ]
  },
  {
   "cell_type": "markdown",
   "id": "1285bb66-55ad-4e50-aa2b-e05297c0a540",
   "metadata": {},
   "source": [
    "### **1. Introduction to the Project**\n",
    "\n",
    "This project creates an interactive Quiz for movie lovers centered around films. \n",
    "The data is sourced from IMDb dataframe (downloaded from Github of the 1000 top movies). \n",
    "To make the quiz dynamic and appropriately challenging, the system incorporates a difficulty-based criterion for generating plausible answer options. A\n",
    "dditionally, the program enables players to answer these quizzes interactively and evaluates their performance with an overall score that reflects the difficulty level of each question answered. \n",
    "This approach ensures a personalized and fun quiz experience while providing meaningful insights into player performance.\n",
    "\n",
    "Let's look at the steps to implement this program :\n",
    "\n",
    "\n",
    "\n"
   ]
  },
  {
   "cell_type": "markdown",
   "id": "f64eef61-94ec-4f32-b30c-10f65ad63bfb",
   "metadata": {},
   "source": [
    "### **2. Data:**"
   ]
  },
  {
   "cell_type": "markdown",
   "id": "f5845e96-910c-47a7-a238-98e7e25d980e",
   "metadata": {},
   "source": [
    "First it is important to import the pandas library in order to be able to work with the imdb dataset.  This dataset was downloaded from github and it is a dataset showing information about the top 1000 movies."
   ]
  },
  {
   "cell_type": "code",
   "execution_count": 66,
   "id": "6c33215a-7992-43a8-a090-28467c3ba096",
   "metadata": {},
   "outputs": [],
   "source": [
    "import pandas as pd"
   ]
  },
  {
   "cell_type": "code",
   "execution_count": 68,
   "id": "e60e57a8-979d-4a34-b406-2796293b8da6",
   "metadata": {},
   "outputs": [],
   "source": [
    "pd.options.display.float_format = '{:,.2f}'.format"
   ]
  },
  {
   "cell_type": "code",
   "execution_count": 70,
   "id": "b697c786-44f8-488a-814e-79c0f8905f97",
   "metadata": {},
   "outputs": [],
   "source": [
    "df = pd.read_csv(\"/Users/selammahmudali/Desktop/Project-Coding-for-data-science/imdb_top_1000.csv.xls\")\n"
   ]
  },
  {
   "cell_type": "code",
   "execution_count": 87,
   "id": "bdef4ad6-8f28-4cbe-8ce1-357b1cdc222e",
   "metadata": {},
   "outputs": [],
   "source": [
    "#print(df)"
   ]
  },
  {
   "cell_type": "markdown",
   "id": "4d5d4d54-7604-4eff-b3d5-96f64f0e7ccb",
   "metadata": {},
   "source": [
    "As seen in the initally downloaded file, most columns are discarded because they are not necessarily relevant for the Quiz. Therefore the following columns  have been selected and saved to a new Csv file: Series_Title, Released_Year, IMDb_Rating, Director, Star1,Star2, Star3, Star4. "
   ]
  },
  {
   "cell_type": "code",
   "execution_count": 95,
   "id": "820196ce-eb8a-4817-b9d1-e559e0833872",
   "metadata": {},
   "outputs": [],
   "source": [
    "selected_columns.to_csv(\"//Users/selammahmudali/Desktop/Project-Coding-for-data-science/imdb_top_1000_selected_columns.csv\", index=False)\n",
    "\n",
    "#print(\"New CSV file with selected columns has been created.\")\n",
    "\n",
    "\n",
    "def load_movie_data():\n",
    "    # Load the dataset and return the DataFrame\n",
    "    df = pd.read_csv(\"imdb_top_1000_selected_columns.csv\")  # Ensure the path to your CSV is correct\n",
    "    return df\n"
   ]
  },
  {
   "cell_type": "markdown",
   "id": "ab5377e6-90b8-410a-93ac-41b37aa8dc03",
   "metadata": {},
   "source": [
    "### 3. **Quiz Generator:**\n",
    "\n"
   ]
  },
  {
   "cell_type": "markdown",
   "id": "05026af7-765f-46ac-8893-58a90023184f",
   "metadata": {},
   "source": [
    "The Quiz generator function "
   ]
  },
  {
   "cell_type": "code",
   "execution_count": null,
   "id": "e2e4f5ac-3a43-4415-8f82-889feddcdddb",
   "metadata": {},
   "outputs": [],
   "source": []
  }
 ],
 "metadata": {
  "kernelspec": {
   "display_name": "Python 3 (ipykernel)",
   "language": "python",
   "name": "python3"
  },
  "language_info": {
   "codemirror_mode": {
    "name": "ipython",
    "version": 3
   },
   "file_extension": ".py",
   "mimetype": "text/x-python",
   "name": "python",
   "nbconvert_exporter": "python",
   "pygments_lexer": "ipython3",
   "version": "3.11.5"
  }
 },
 "nbformat": 4,
 "nbformat_minor": 5
}
