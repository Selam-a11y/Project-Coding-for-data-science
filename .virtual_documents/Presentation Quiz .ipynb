












import pandas as pd
import matplotlib.pyplot as plt


# These are just some display settings
pd.set_option('display.max_columns', None)
pd.set_option('display.max_colwidth', None)

# Display floating points in a more readable format
pd.options.display.float_format = '{:,.2f}'.format
# Read in the movies data first
df = pd.read_csv("/Users/selammahmudali/Desktop/Project-Coding-for-data-science/imdb_top_1000.csv.xls")


top_voted_movies = df.nlargest(10, 'No_of_Votes')

plt.figure(figsize=(12, 6))
plt.bar(top_voted_movies['Series_Title'], top_voted_movies['No_of_Votes'], color='gold', edgecolor='black')
plt.title('Top 10 Movies by Number of Votes', fontsize=14)
plt.xlabel('Movie Title', fontsize=8)
plt.ylabel('Number of Votes', fontsize=8)
plt.xticks(rotation=90)
plt.tight_layout()
plt.show()



import pandas as pd


pd.options.display.float_format = '{:,.2f}'.format
df=pd.read_csv("/Users/selammahmudali/Desktop/Project-Coding-for-data-science/imdb_top_1000.csv.xls")
#print(df)





selected_columns = df.iloc[:, [1, 2, 6, 9, 10, 11, 12, 13]]
selected_columns.to_csv("//Users/selammahmudali/Desktop/Project-Coding-for-data-science/imdb_top_1000_selected_columns.csv", index=False)







def load_movie_data():
    # Load the dataset and return the DataFrame
    df = pd.read_csv("//Users/selammahmudali/Desktop/Project-Coding-for-data-science/imdb_top_1000_selected_columns.csv")  








import pandas as pd
import random
import numpy as np 
from dataframe import load_movie_data





def generate_quiz(difficulty):
    """Generates a quiz question based on the specified difficulty."""
    # Load the dataset
    df = load_movie_data()
    
    # Adjust difficulty
    if difficulty == "medium":
        selected_movie = df.sample(1).iloc[0]
        question = f"Who directed the movie '{selected_movie['Series_Title']}'?"
        correct_answer = selected_movie['Director']
        
        # Use numpy to generate unique random options
        all_directors = df["Director"].unique()
        options = np.random.choice(all_directors[all_directors != correct_answer], 3, replace=False).tolist()
        options.append(correct_answer)
        np.random.shuffle(options)  # Shuffle options
    
    elif difficulty == "easy":
        selected_movie = df.sample(1).iloc[0]
        question = f"Which actor starred in '{selected_movie['Series_Title']}'?"
        correct_answer = selected_movie['Star1'] or selected_movie['Star2'] or selected_movie['Star3'] or selected_movie['Star4']
        
        # Use numpy for generating random actor options
        all_actors = df['Star1'].dropna().unique()  # Get unique non-NaN actors
        options = np.random.choice(all_actors[all_actors != correct_answer], 3, replace=False).tolist()
        options.append(correct_answer)
        np.random.shuffle(options)
    
    elif difficulty == "hard":
        selected_movie = df.sample(1).iloc[0]
        question = f"What year was the movie '{selected_movie['Series_Title']}' released?"
        correct_answer = selected_movie['Released_Year']
        
        # Use numpy to pick random years
        all_years = df["Released_Year"].unique()
        options = np.random.choice(all_years[all_years != correct_answer], 3, replace=False).tolist()
        options.append(correct_answer)
        np.random.shuffle(options)
    
    return {
        "question": question,
        "options": options,
        "answer": correct_answer
    }






class PerformanceTracker:
    def __init__(self):
        self.correct_answers = 0
        self.total_questions = 0
        self.difficulty_weights = {"easy": 1, "medium": 2, "hard": 3}
        self.score = 0

    def update_score(self, correct, difficulty):
        self.total_questions += 1
        if correct:
            self.correct_answers += 1
            self.score += self.difficulty_weights[difficulty]

    def get_summary(self):
        return {
            "total_questions": self.total_questions,
            "correct_answers": self.correct_answers,
            "score": self.score
        }



